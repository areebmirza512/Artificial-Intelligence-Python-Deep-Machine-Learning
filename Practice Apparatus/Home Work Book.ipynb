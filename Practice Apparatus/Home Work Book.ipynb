{
 "cells": [
  {
   "cell_type": "markdown",
   "metadata": {},
   "source": [
    "# CHAPTER - 1 PRINT"
   ]
  },
  {
   "cell_type": "code",
   "execution_count": null,
   "metadata": {},
   "outputs": [],
   "source": [
    "name=\"Areeb\"\n",
    "print(name)"
   ]
  },
  {
   "cell_type": "code",
   "execution_count": null,
   "metadata": {},
   "outputs": [],
   "source": [
    "name=\"Areeb Mirza\"\n",
    "print(name)"
   ]
  },
  {
   "cell_type": "code",
   "execution_count": null,
   "metadata": {},
   "outputs": [],
   "source": [
    "floogle=\"Areeb Mirza\"\n",
    "print(floogle)"
   ]
  },
  {
   "cell_type": "markdown",
   "metadata": {},
   "source": [
    "# CHAPTER - 2 VARIABLES FOR STRINGS"
   ]
  },
  {
   "cell_type": "code",
   "execution_count": null,
   "metadata": {},
   "outputs": [],
   "source": [
    "lesson_author=\"Areeb\"\n",
    "print(lesson_author)"
   ]
  },
  {
   "cell_type": "code",
   "execution_count": null,
   "metadata": {},
   "outputs": [],
   "source": [
    "last_name=\"Mirza Sahaab\"\n",
    "city_of_origin=\"Karachi\"\n",
    "date_of_birth=\"30 October 1994\"\n",
    "print(last_name,city_of_origin,date_of_birth)"
   ]
  },
  {
   "cell_type": "markdown",
   "metadata": {},
   "source": [
    "# CHAPTER - 3 VARIABLES FOR NUMBERS"
   ]
  },
  {
   "cell_type": "code",
   "execution_count": null,
   "metadata": {},
   "outputs": [],
   "source": [
    "weight=76\n",
    "weight=weight+2\n",
    "print(weight)\n"
   ]
  },
  {
   "cell_type": "code",
   "execution_count": null,
   "metadata": {},
   "outputs": [],
   "source": [
    "original_num = 100\n",
    "num_to_be_added=7\n",
    "new_num=original_num+num_to_be_added\n",
    "print(new_num)\n"
   ]
  },
  {
   "cell_type": "code",
   "execution_count": null,
   "metadata": {},
   "outputs": [],
   "source": [
    "weight+original_num"
   ]
  },
  {
   "cell_type": "code",
   "execution_count": null,
   "metadata": {},
   "outputs": [],
   "source": [
    "prime_number_that_comes1st=2\n",
    "print(prime_number_that_comes1st)"
   ]
  },
  {
   "cell_type": "markdown",
   "metadata": {},
   "source": [
    "# CHAPTER - 4 MATH EXPRESSIONS : FAMILIAR OPERATORS "
   ]
  },
  {
   "cell_type": "code",
   "execution_count": null,
   "metadata": {},
   "outputs": [],
   "source": [
    "popular_number=4\n",
    "popular_number=2+2\n",
    "print(2+2)"
   ]
  },
  {
   "cell_type": "code",
   "execution_count": null,
   "metadata": {},
   "outputs": [],
   "source": [
    "loss=12-24\n",
    "print(loss)"
   ]
  },
  {
   "cell_type": "code",
   "execution_count": null,
   "metadata": {},
   "outputs": [],
   "source": [
    "dozen=3*12\n",
    "print(dozen)"
   ]
  },
  {
   "cell_type": "code",
   "execution_count": null,
   "metadata": {},
   "outputs": [],
   "source": [
    "popular_number=12/4\n",
    "print(popular_number)"
   ]
  },
  {
   "cell_type": "code",
   "execution_count": null,
   "metadata": {},
   "outputs": [],
   "source": [
    "num=0.75\n",
    "total=num+200\n",
    "print(total)"
   ]
  },
  {
   "cell_type": "code",
   "execution_count": null,
   "metadata": {},
   "outputs": [],
   "source": [
    "num=10\n",
    "another_number=1.5\n",
    "sum_of_numbers=num+another_number\n",
    "print(sum_of_numbers)"
   ]
  },
  {
   "cell_type": "markdown",
   "metadata": {},
   "source": [
    "# CHAPTER - 5 VARIABLE NAMES : LEGAL & ILLEGAL ( LIST OF KEYWORDS THAT ARE RESERVED BY PYTHON)"
   ]
  },
  {
   "cell_type": "markdown",
   "metadata": {},
   "source": [
    "# CHAPTER - 6 MATH EXPRESSIONS : UN-FAMILIAR OPERATORS"
   ]
  },
  {
   "cell_type": "code",
   "execution_count": null,
   "metadata": {},
   "outputs": [],
   "source": [
    "what_left_over=10%3\n",
    "print(what_left_over)"
   ]
  },
  {
   "cell_type": "code",
   "execution_count": null,
   "metadata": {},
   "outputs": [],
   "source": [
    "what_lefts_over=9%3\n",
    "print(what_lefts_over)"
   ]
  },
  {
   "cell_type": "code",
   "execution_count": null,
   "metadata": {},
   "outputs": [],
   "source": [
    "age=24\n",
    "age=age+1\n",
    "print(age)"
   ]
  },
  {
   "cell_type": "code",
   "execution_count": null,
   "metadata": {},
   "outputs": [],
   "source": [
    "age=25\n",
    "age+=1\n",
    "print(age)"
   ]
  },
  {
   "cell_type": "code",
   "execution_count": null,
   "metadata": {},
   "outputs": [],
   "source": [
    "age=12\n",
    "age+=50\n",
    "print(age)"
   ]
  },
  {
   "cell_type": "code",
   "execution_count": null,
   "metadata": {},
   "outputs": [],
   "source": [
    "age=12\n",
    "age-=2\n",
    "print(age)"
   ]
  },
  {
   "cell_type": "code",
   "execution_count": null,
   "metadata": {},
   "outputs": [],
   "source": [
    "age=12\n",
    "age*=3\n",
    "print(age)"
   ]
  },
  {
   "cell_type": "code",
   "execution_count": null,
   "metadata": {},
   "outputs": [],
   "source": [
    "age=36\n",
    "amount_to_increment=3\n",
    "age+=amount_to_increment\n",
    "print(age)"
   ]
  },
  {
   "cell_type": "markdown",
   "metadata": {},
   "source": [
    "# CHAPTER - 7 MATH EXPRESSIONS :ELIMINATING AMBIGUITY"
   ]
  },
  {
   "cell_type": "markdown",
   "metadata": {},
   "source": [
    "I GUESS JUPYTER NOTEBOOK IS SELF-ELIMINATING THE AMBIGUITY \n",
    "BY PERFORMING MULTIPLICATION RULE FIRST EVEN WITHOUT BRACKETS. \n",
    "SEE RESULT OF LINE 79 AND 80 ITS SAME WITH/WITHOUT BRACKETS."
   ]
  },
  {
   "cell_type": "code",
   "execution_count": null,
   "metadata": {},
   "outputs": [],
   "source": [
    "total_cost=1+5*4\n",
    "print(total_cost)"
   ]
  },
  {
   "cell_type": "code",
   "execution_count": null,
   "metadata": {},
   "outputs": [],
   "source": [
    "total_cost=1+(5*4)\n",
    "print(total_cost)"
   ]
  },
  {
   "cell_type": "markdown",
   "metadata": {},
   "source": [
    "HERE IN LINE 83 THE AMUIGUITY IS APPLIED JPY RESOLVES THE BRACKET FIRST BUT THAT IS ADDITION \n",
    "AFTER MULTIPLICATION IN PATTERN WITH ALGEBRA."
   ]
  },
  {
   "cell_type": "code",
   "execution_count": null,
   "metadata": {},
   "outputs": [],
   "source": [
    "total_cost=(1+5)*4\n",
    "print(total_cost)"
   ]
  },
  {
   "cell_type": "code",
   "execution_count": null,
   "metadata": {},
   "outputs": [],
   "source": [
    "another_example=2*4*4+2\n",
    "print(another_example)"
   ]
  },
  {
   "cell_type": "code",
   "execution_count": null,
   "metadata": {},
   "outputs": [],
   "source": [
    "another_example=(2*4)*4+2\n",
    "print(another_example)"
   ]
  },
  {
   "cell_type": "code",
   "execution_count": null,
   "metadata": {},
   "outputs": [],
   "source": [
    "another_example=2*4*(4+2)\n",
    "print(another_example)"
   ]
  },
  {
   "cell_type": "code",
   "execution_count": null,
   "metadata": {},
   "outputs": [],
   "source": [
    "another_example=(2*4)*2+4\n",
    "print(another_example)"
   ]
  },
  {
   "cell_type": "code",
   "execution_count": null,
   "metadata": {},
   "outputs": [],
   "source": [
    "another_example=((2*4)*4)+2\n",
    "print(another_example)"
   ]
  },
  {
   "cell_type": "code",
   "execution_count": null,
   "metadata": {},
   "outputs": [],
   "source": [
    "another_example=((10+5)*4)+5\n",
    "print(another_example)\n"
   ]
  },
  {
   "cell_type": "code",
   "execution_count": null,
   "metadata": {},
   "outputs": [],
   "source": [
    "another_example=2*4*2+4\n",
    "print(another_example)"
   ]
  },
  {
   "cell_type": "code",
   "execution_count": null,
   "metadata": {},
   "outputs": [],
   "source": [
    "another_example=(2*4)*(2+4)\n",
    "print(another_example)"
   ]
  },
  {
   "cell_type": "markdown",
   "metadata": {},
   "source": [
    "# CHAPTER - 8 CONCATENATING TEXT STRINGS"
   ]
  },
  {
   "cell_type": "code",
   "execution_count": null,
   "metadata": {},
   "outputs": [],
   "source": [
    "greeting=\"Asallaam\"\n",
    "greeting_two=\"O Alaikum\"\n",
    "whole_greeting=greeting+greeting_two\n",
    "print(whole_greeting)"
   ]
  },
  {
   "cell_type": "code",
   "execution_count": null,
   "metadata": {},
   "outputs": [],
   "source": [
    "greeting=\"Asallaam\"\n",
    "separators=\",\"\n",
    "greeting_two=\"O Alaikum\"\n",
    "punc=\"!\"\n",
    "whole_greeting=greeting+separators+greeting_two+punc\n",
    "print(whole_greeting)\n",
    "\n"
   ]
  },
  {
   "cell_type": "code",
   "execution_count": null,
   "metadata": {},
   "outputs": [],
   "source": [
    "greeting=\"Asallaam,\"\n",
    "greeting_two=\"O Alaikum!\"\n",
    "whole_greeting=greeting+greeting_two\n",
    "print(whole_greeting)\n"
   ]
  },
  {
   "cell_type": "markdown",
   "metadata": {},
   "source": [
    "# CHAPTER - 9 IF STATEMENTS"
   ]
  },
  {
   "cell_type": "code",
   "execution_count": null,
   "metadata": {},
   "outputs": [],
   "source": [
    "species=\"cat\"\n",
    "if species==\"cat\":\n",
    "    print(\"yep, it's a cat.\")"
   ]
  },
  {
   "cell_type": "code",
   "execution_count": null,
   "metadata": {},
   "outputs": [],
   "source": [
    "\n",
    "if 2+2==4:\n",
    "    print(\"everything makes sense\")"
   ]
  },
  {
   "cell_type": "code",
   "execution_count": null,
   "metadata": {},
   "outputs": [],
   "source": [
    "number_of_husbands=1\n",
    "if number_of_husbands==1:\n",
    "    print(\"so far so good\")"
   ]
  },
  {
   "cell_type": "code",
   "execution_count": null,
   "metadata": {},
   "outputs": [],
   "source": [
    "species=\"cat\"\n",
    "kingdom=\"animal\"\n",
    "food=\"carnivorus\"\n",
    "if species==\"cat\":\n",
    "    if kingdom==\"animal\":\n",
    "        if food==\"carnivorus\":\n",
    "            print(\"yes, it's a cat!\")"
   ]
  },
  {
   "cell_type": "markdown",
   "metadata": {},
   "source": [
    "# CHAPTER - 10 COMPARISION OPERATORS"
   ]
  },
  {
   "cell_type": "code",
   "execution_count": null,
   "metadata": {},
   "outputs": [],
   "source": [
    "ticket_number=\"512512\"\n",
    "serial_number=\"514514\"\n",
    "if ticket_number==\"512512\":\n",
    "    if serial_number==\"514514\":\n",
    "        print(\"ticket is valid.\")\n",
    "        if ticket_number!=\"512512\":\n",
    "            if serial_number!=\"514514\":\n",
    "                print(\"sorry ticket is not valid.\")"
   ]
  },
  {
   "cell_type": "code",
   "execution_count": null,
   "metadata": {},
   "outputs": [],
   "source": [
    "customer_id=\"668\"\n",
    "if customer_id==\"666\":\n",
    "    print(\"please login\")\n",
    "if customer_id!=\"666\":\n",
    "    print(\"sorry invalid customer id\")"
   ]
  },
  {
   "cell_type": "code",
   "execution_count": null,
   "metadata": {},
   "outputs": [],
   "source": [
    "if 1>0:\n",
    "    if 0<1:\n",
    "        if 1>=0:\n",
    "            if 1>=1:\n",
    "                if 0<=1:\n",
    "                    if 1<=1:\n",
    "                        print(\"all above statements are true and comparision operators\")\n"
   ]
  },
  {
   "cell_type": "markdown",
   "metadata": {},
   "source": [
    "# CHAPTER - 11 ELSE AND ELIF STATEMENTS (IF, ELSE, ELIF)"
   ]
  },
  {
   "cell_type": "code",
   "execution_count": null,
   "metadata": {},
   "outputs": [],
   "source": [
    "species=\"cat\"\n",
    "if species==\"cat\":\n",
    "    print(\"yo! it's cat.\")\n",
    "        \n",
    "        "
   ]
  },
  {
   "cell_type": "code",
   "execution_count": null,
   "metadata": {},
   "outputs": [],
   "source": [
    "species=\"dino\"\n",
    "if species==\"bat\":\n",
    "    print(\"yes, bat\")\n",
    "    if species!=\"bat\":\n",
    "        print(\"not a bat.\")\n",
    "      "
   ]
  },
  {
   "cell_type": "code",
   "execution_count": null,
   "metadata": {},
   "outputs": [],
   "source": [
    "species=\"donkey\"\n",
    "if species!=\"monkey\":\n",
    "    print(\"no its not monkey\")\n",
    "    "
   ]
  },
  {
   "cell_type": "code",
   "execution_count": null,
   "metadata": {},
   "outputs": [],
   "source": [
    "num=3\n",
    "if num<=0:\n",
    "    print(\"Positive or Zero\")\n",
    "    else:\n",
    "        (\"print negative number\")"
   ]
  },
  {
   "cell_type": "code",
   "execution_count": null,
   "metadata": {},
   "outputs": [],
   "source": [
    "donut_condition=\"expire\"\n",
    "donut_price=100\n",
    "if donut_condition==\"fresh\":\n",
    "    print(\"100 Dollars\")\n",
    "    if donut_condition!=\"fresh\":\n",
    "        print(\"expire donuts\")\n",
    "        "
   ]
  },
  {
   "cell_type": "markdown",
   "metadata": {},
   "source": [
    "# CHAPTER - 12 TESTING SETS & CONDITIONS by (< > <= >=)"
   ]
  },
  {
   "cell_type": "code",
   "execution_count": null,
   "metadata": {},
   "outputs": [],
   "source": [
    "weight=310\n",
    "time=4\n",
    "if weight>300 and time<6:\n",
    "    status=\"try to recruit him\"\n",
    "    print(status)"
   ]
  },
  {
   "cell_type": "code",
   "execution_count": null,
   "metadata": {},
   "outputs": [],
   "source": [
    "weight=350\n",
    "time=5\n",
    "height=72\n",
    "age=19\n",
    "if weight>300 and time<6 and age>17 and height<=72:\n",
    "    status=\"perfectly match\"\n",
    "    print(status)"
   ]
  },
  {
   "cell_type": "code",
   "execution_count": null,
   "metadata": {},
   "outputs": [],
   "source": [
    "sat=1.9\n",
    "avg=2.0\n",
    "gpa=3.5\n",
    "if sat>avg or gpa>2.5:\n",
    "    message=\"welcome to university\"\n",
    "    print(message)\n"
   ]
  },
  {
   "cell_type": "code",
   "execution_count": null,
   "metadata": {},
   "outputs": [],
   "source": [
    "age=20\n",
    "res=\"UK\"\n",
    "if age>65 or (age<21 and res==\"UK\"):\n",
    "    message=\"eligibe\"\n",
    "    print(message)"
   ]
  },
  {
   "cell_type": "markdown",
   "metadata": {},
   "source": [
    "# CHAPTER - 13 IF STATEMENTS NESTED"
   ]
  },
  {
   "cell_type": "code",
   "execution_count": null,
   "metadata": {},
   "outputs": [],
   "source": [
    "x=5\n",
    "y=5\n",
    "a=5\n",
    "b=5\n",
    "c=7\n",
    "d=7\n",
    "h=x+y+a+b+c+d\n",
    "if (x==y or a==b) and c==d: \n",
    "    g=h\n",
    "    print(g)"
   ]
  },
  {
   "cell_type": "markdown",
   "metadata": {},
   "source": [
    "# CHAPTER - 14 COMMENTS"
   ]
  },
  {
   "cell_type": "markdown",
   "metadata": {},
   "source": [
    "#THIS is a comment\n",
    "#this is another, comment\n",
    "#comment with (backets)\n"
   ]
  },
  {
   "cell_type": "markdown",
   "metadata": {},
   "source": [
    "# CHAPTER - 15 MAKING LISTS"
   ]
  },
  {
   "cell_type": "code",
   "execution_count": null,
   "metadata": {},
   "outputs": [],
   "source": [
    "city_[0]=\"Atlanta\"\n",
    "city_[1]=\"Baltimore\"\n",
    "city_[2]=\"Chicago\"\n",
    "city_[3]=\"Denver\"\n",
    "city_[4]=\"Los Angeles\"\n",
    "city_[5]=\"Washington\"\n",
    "print(\"Welcome To\"\" \"+city_3)"
   ]
  },
  {
   "cell_type": "markdown",
   "metadata": {},
   "source": [
    "#another handy way to make a list, with sequence of values assigning to one variable"
   ]
  },
  {
   "cell_type": "code",
   "execution_count": null,
   "metadata": {},
   "outputs": [],
   "source": [
    "cities=[\"Atlanta\", \"Baltimore\", \"Chicago\", \"Denver\", \"Los Angeles\", \"Washington\"]\n",
    "cities.append(\"New York\")\n",
    "print(cities)"
   ]
  },
  {
   "cell_type": "code",
   "execution_count": null,
   "metadata": {},
   "outputs": [],
   "source": [
    "print(\"Welcome To\"\" \"+cities[4])"
   ]
  },
  {
   "cell_type": "markdown",
   "metadata": {},
   "source": [
    "# CHAPTER - 16 ADDING AND CHANGING ELEMENTS"
   ]
  },
  {
   "cell_type": "code",
   "execution_count": null,
   "metadata": {},
   "outputs": [],
   "source": [
    "cities=[\"Atlanta\", \"Baltimore\", \"Chicago\", \"Denver\", \"Los Angeles\", \"Washington\"]\n",
    "cities.append(\"New York\")\n",
    "print(cities)"
   ]
  },
  {
   "cell_type": "code",
   "execution_count": null,
   "metadata": {},
   "outputs": [],
   "source": [
    "cities=[\"Atlanta\", \"Baltimore\", \"Chicago\", \"Denver\", \"Los Angeles\", \"Washington\"]\n",
    "cities.append(\"New York\")\n",
    "cities.append(\"California\")\n",
    "cities.append(97)\n",
    "print(cities)"
   ]
  },
  {
   "cell_type": "code",
   "execution_count": null,
   "metadata": {},
   "outputs": [],
   "source": [
    "cities=cities+[\"Houston\", \"New Orleans\"]\n",
    "print(cities)"
   ]
  },
  {
   "cell_type": "code",
   "execution_count": null,
   "metadata": {},
   "outputs": [],
   "source": [
    "cities.insert(0,\"Greenwich\")\n",
    "print(cities)"
   ]
  },
  {
   "cell_type": "code",
   "execution_count": null,
   "metadata": {},
   "outputs": [],
   "source": [
    "cities.insert(2,\"Dallas\")\n",
    "print(cities)"
   ]
  },
  {
   "cell_type": "code",
   "execution_count": null,
   "metadata": {},
   "outputs": [],
   "source": [
    "cities[3]=\"Indiana\"\n",
    "print(cities)"
   ]
  },
  {
   "cell_type": "code",
   "execution_count": null,
   "metadata": {},
   "outputs": [],
   "source": []
  },
  {
   "cell_type": "markdown",
   "metadata": {},
   "source": [
    "# CHAPTER - 17 TAKING SLICES OUT OF THEM "
   ]
  },
  {
   "cell_type": "code",
   "execution_count": null,
   "metadata": {},
   "outputs": [],
   "source": [
    "smaller_list_cities=[\"Atlanta\", \"LA\", \"California\", \"Georgia\", \"Phoenix\"]\n",
    "print(smaller_list_cities)\n",
    "smaller_list_cities=cities[2:4]\n",
    "print(smaller_list_cities)"
   ]
  },
  {
   "cell_type": "markdown",
   "metadata": {},
   "source": [
    "# CHAPTER - 18 DELETING AND REMOVING ELEMENTS"
   ]
  },
  {
   "cell_type": "code",
   "execution_count": null,
   "metadata": {},
   "outputs": [],
   "source": [
    "task=[\"email frank\", \"call sarah\", \"meet with chef\"]\n",
    "#task[0]isemailfrank\n",
    "#task[1]iscallingsarah\n",
    "#task[2]ismeetingwithchef\n",
    "#according to the deafault python index\n",
    "print(task)"
   ]
  },
  {
   "cell_type": "code",
   "execution_count": null,
   "metadata": {},
   "outputs": [],
   "source": [
    "del task[0]\n",
    "print(task)\n",
    "#python deleted task 0 , but avoid gaps, so oython again sets the task at index 0 and task1"
   ]
  },
  {
   "cell_type": "code",
   "execution_count": null,
   "metadata": {},
   "outputs": [],
   "source": [
    "task.remove(\"call sarah\")\n",
    "print(task) #another way to remove task by variable name instead of index number"
   ]
  },
  {
   "cell_type": "markdown",
   "metadata": {},
   "source": [
    "# CHAPTER - 19  LIST: POPPING ELEMENTS"
   ]
  },
  {
   "cell_type": "code",
   "execution_count": null,
   "metadata": {},
   "outputs": [],
   "source": [
    "tasks=[\"call my girl friend\", \"email the issue to my team\", \"meeting with ronaldo\"]\n",
    "print(tasks)\n"
   ]
  },
  {
   "cell_type": "code",
   "execution_count": null,
   "metadata": {},
   "outputs": [],
   "source": [
    "task_accomplished=tasktasks=[\"call my girl friend\", \"email the issue to my team\", \"meeting with ronaldo\"]\n",
    "print(tasks)\n",
    "s.pop(1)\n",
    "print(task_accomplished)"
   ]
  },
  {
   "cell_type": "code",
   "execution_count": null,
   "metadata": {},
   "outputs": [],
   "source": [
    "task_accomplished=tasks.pop(1)\n",
    "print(task_accomplished)"
   ]
  },
  {
   "cell_type": "code",
   "execution_count": null,
   "metadata": {},
   "outputs": [],
   "source": [
    "tasks.append (tasks.pop(0))\n",
    "print(tasks)"
   ]
  },
  {
   "cell_type": "code",
   "execution_count": null,
   "metadata": {},
   "outputs": [],
   "source": [
    "tasks.insert(1,tasks.pop(0))\n",
    "print(tasks)"
   ]
  },
  {
   "cell_type": "markdown",
   "metadata": {},
   "source": [
    "# CHAPTER - 20 TUPLES"
   ]
  },
  {
   "cell_type": "code",
   "execution_count": null,
   "metadata": {},
   "outputs": [],
   "source": [
    "states_in_order_of_founding=(\"Delaware\", \"New Jersey\", \"New Orleans also known as the people state\", \"Georgia\")\n",
    "second_state_founded=states_in_order_of_founding[2]\n",
    "print(\"The second state founded was\"\" \"+ second_state_founded)"
   ]
  },
  {
   "cell_type": "markdown",
   "metadata": {},
   "source": [
    "# CHAPTER - 21 LOOPS IF, FOR , BREAK"
   ]
  },
  {
   "cell_type": "code",
   "execution_count": null,
   "metadata": {},
   "outputs": [],
   "source": [
    "cleanest_cities=[\"Karachi\", \"Islamabad\", \"Lahore\", \"Rawalpindi\", \"Hunza\"]\n",
    "city_to_check=\"Hunza\"\n",
    "if city_to_check==cleanest_cities[0]:\n",
    "    print(\"it's one of the cleanest cities\")\n",
    "    elif city_to_check==cleanest_cities[1]:\n",
    "        print(\"it's one of the cleanest cities\")\n",
    "        elif city_to_check==cleanest_cities[2]:\n",
    "            print(\"it's one of the cleanest cities\")\n",
    "            elif city_to_check==cleanest_cities[3]:\n",
    "                print(\"it's one of the cleanest cities\")\n",
    "                elif city_to_check==cleanest_cities[4]:\n",
    "                    print(\"it's one of the cleanest cities\")\n",
    "        "
   ]
  },
  {
   "cell_type": "code",
   "execution_count": null,
   "metadata": {},
   "outputs": [],
   "source": [
    "cleanest_cities=[\"Karachi\", \"Islamabad\", \"Lahore\", \"Rawalpindi\", \"Hunza\"]\n",
    "city_to_check=\"Lahore\"\n",
    "for a_clean_city in cleanest_cities:\n",
    "    if city_to_check==a_clean_city:\n",
    "        print(\"its one of the cleanest cities\")\n",
    "            "
   ]
  },
  {
   "cell_type": "code",
   "execution_count": null,
   "metadata": {},
   "outputs": [],
   "source": [
    "cleanest_cities=[\"Karachi\", \"Islamabad\", \"Lahore\", \"Rawalpindi\", \"Hunza\"]\n",
    "city_to_check=\"Islamabad\"\n",
    "for a_clean_city in cleanest_cities:\n",
    "    if city_to_check==a_clean_city:\n",
    "        print(\"its one of the cleanest cities\") \n",
    "        #now stopping loop by \"break.\"\n",
    "        break"
   ]
  },
  {
   "cell_type": "markdown",
   "metadata": {},
   "source": [
    "# CHAPTER - 22 FOR LOOPS NESTED"
   ]
  },
  {
   "cell_type": "code",
   "execution_count": null,
   "metadata": {},
   "outputs": [],
   "source": [
    "first_names=[\"Blue Ray\", \"Upchuck\", \"Lojack\", \"Gizmo\", \"Do-rage\"]\n",
    "last_names=[\"Dvd\", \"Burp\", \"Dogbone\", \"Drone\",\"Ralph\"]\n",
    "full_names=(first_names+last_names)\n",
    "print(full_names)"
   ]
  },
  {
   "cell_type": "code",
   "execution_count": null,
   "metadata": {},
   "outputs": [],
   "source": [
    "#python displaying list format the full names separately (first & last name isnt togather above)"
   ]
  },
  {
   "cell_type": "code",
   "execution_count": null,
   "metadata": {},
   "outputs": [],
   "source": [
    "#now trying to combine the first name of list with the first name of second list that is last name through indexing"
   ]
  },
  {
   "cell_type": "code",
   "execution_count": null,
   "metadata": {},
   "outputs": [],
   "source": [
    "first_names=[\"Blue Ray\", \"Upchuck\", \"Lojack\", \"Gizmo\", \"Do-rage\"]\n",
    "last_names=[\"Dvd\", \"Burp\", \"Dogbone\", \"Drone\",\"Ralph\"]\n",
    "full_names=(first_names[0]+last_names[0],first_names[1]+last_names[1],first_names[2]+last_names[2],first_names[3]+last_names[3],first_names[4]+last_names[4])\n",
    "print(full_names)"
   ]
  },
  {
   "cell_type": "code",
   "execution_count": null,
   "metadata": {},
   "outputs": [],
   "source": [
    "#NOW USING \"NESTED FOR\" STATEMENTS"
   ]
  },
  {
   "cell_type": "code",
   "execution_count": null,
   "metadata": {},
   "outputs": [],
   "source": [
    "first_names=[\"Blue Ray\", \"Upchuck\", \"Lojack\", \"Gizmo\", \"Do-rage\"]\n",
    "last_names=[\"Dvd\", \"Burp\", \"Dogbone\", \"Drone\",\"Ralph\"]\n",
    "full_names=[]\n",
    "for a_first_name in first_names:\n",
    "    for a_last_name in last_names:\n",
    "        full_names.append(a_first_name+\" \"+a_last_name)\n",
    "        print(full_names)\n",
    "\n"
   ]
  },
  {
   "cell_type": "code",
   "execution_count": null,
   "metadata": {},
   "outputs": [],
   "source": [
    "first_names=[\"Areeb\", \"Ateeb\", \"Talha\", \"Ayan\", \"Farah\",\"Nawaid\"]\n",
    "last_names=[\"Baig\", \"Mirza\", \"Qureshi\", \"Mughal\",\"Sultan\"]\n",
    "full_names=[]\n",
    "for a_first_name in first_names:\n",
    "    for a_last_name in last_names:\n",
    "        full_names.append(a_first_name+\" \"+a_last_name)\n",
    "        print(full_names)"
   ]
  },
  {
   "cell_type": "markdown",
   "metadata": {},
   "source": [
    "# CHAPTER - 23 GETTING INFORMATION FROM THE USERS & CONVERTING STRINGS & NUMBERS"
   ]
  },
  {
   "cell_type": "code",
   "execution_count": null,
   "metadata": {},
   "outputs": [],
   "source": [
    "cities=[\"Karachi\", \"Lahore\", \"Islamabad\"]\n",
    "city_to_check=input(\"Enter the name of city:\")\n",
    "    \n",
    "    \n"
   ]
  },
  {
   "cell_type": "code",
   "execution_count": null,
   "metadata": {},
   "outputs": [],
   "source": [
    "monthly_income_as_an_integer=int(5000*10)\n",
    "print(monthly_income_as_an_integer)"
   ]
  },
  {
   "cell_type": "code",
   "execution_count": null,
   "metadata": {},
   "outputs": [],
   "source": [
    "salary_01=float(3.5*2.7)\n",
    "print(salary_01, \"$\")"
   ]
  },
  {
   "cell_type": "code",
   "execution_count": null,
   "metadata": {},
   "outputs": [],
   "source": [
    "x=int(input(\"Enter num of girls\"'\\n'))\n",
    "y=int(input(\"Enter num of boys\"'\\n'))\n",
    "print(\"there are \" +str(x) +\" girls and \"+str(y)+\" boys in my class\")#type casting\n",
    "z=x+y\n",
    "print(\"total students are: \",z)"
   ]
  },
  {
   "cell_type": "code",
   "execution_count": null,
   "metadata": {},
   "outputs": [],
   "source": [
    "#by defult input()=str\n",
    "x=int(input())#casting\n",
    "print(type(x))"
   ]
  },
  {
   "cell_type": "code",
   "execution_count": null,
   "metadata": {},
   "outputs": [],
   "source": [
    "a=int(input(\"Enter number of girls\"'\\n'))\n",
    "b=int(input(\"Enter number of boys\"'\\n'))\n",
    "print(\"there are \" +str(a) +\" girls and \"+str(b)+\" boys in class\")#typecasting\n",
    "c=a+b\n",
    "print(\"total students are: \",c)\n",
    "\n",
    "            "
   ]
  },
  {
   "cell_type": "code",
   "execution_count": null,
   "metadata": {},
   "outputs": [],
   "source": [
    "print(\"Enter your first name\")\n",
    "first_name=input()\n",
    "print(\"Enter your last name\")\n",
    "last_name=input()\n",
    "print(\" now displaying your full name after concatenation... \"+first_name+\" \"+last_name)\n"
   ]
  },
  {
   "cell_type": "markdown",
   "metadata": {},
   "source": [
    "# if statments in python syntex: if [variable/opertion] [conditional operator] [condition(value)][:]"
   ]
  },
  {
   "cell_type": "code",
   "execution_count": null,
   "metadata": {},
   "outputs": [],
   "source": [
    "tp=int(input(\"What is price pre kg\"))\n",
    "if tp==100:\n",
    "    print(\"buy one kg\")\n",
    "else:\n",
    "    print(\"do not buy\")"
   ]
  },
  {
   "cell_type": "code",
   "execution_count": null,
   "metadata": {},
   "outputs": [],
   "source": [
    "x=float(input(\"Enter any num\"'\\n'))\n",
    "if x%2!=0:\n",
    "    print(\"odd\")\n",
    "else:\n",
    "    print(\"even\")"
   ]
  },
  {
   "cell_type": "code",
   "execution_count": null,
   "metadata": {},
   "outputs": [],
   "source": [
    "x=int(input(\"enter 1st num\"))\n",
    "y=int(input(\"enter 2nd num\"))\n",
    "if x==y:\n",
    "    print (\"equal\")\n",
    "else:\n",
    "    print(\"not equal\")"
   ]
  },
  {
   "cell_type": "markdown",
   "metadata": {},
   "source": [
    "in python there is no ++a or a++ in python x=x+1 or x +=1 also x *=1 x -=1\n",
    "\n",
    "in python by-defult division is in float type / for float divion // for int divion % for remainder\n"
   ]
  },
  {
   "cell_type": "code",
   "execution_count": null,
   "metadata": {},
   "outputs": [],
   "source": [
    "19/2"
   ]
  },
  {
   "cell_type": "code",
   "execution_count": null,
   "metadata": {},
   "outputs": [],
   "source": [
    "19//2"
   ]
  },
  {
   "cell_type": "code",
   "execution_count": null,
   "metadata": {},
   "outputs": [],
   "source": [
    "14.8//2"
   ]
  },
  {
   "cell_type": "code",
   "execution_count": null,
   "metadata": {},
   "outputs": [],
   "source": [
    "14//2"
   ]
  },
  {
   "cell_type": "code",
   "execution_count": null,
   "metadata": {},
   "outputs": [],
   "source": [
    "14%8"
   ]
  },
  {
   "cell_type": "code",
   "execution_count": null,
   "metadata": {},
   "outputs": [],
   "source": [
    "int(19/2)#type casting"
   ]
  },
  {
   "cell_type": "code",
   "execution_count": null,
   "metadata": {},
   "outputs": [],
   "source": [
    "numOfStudents=200\n",
    "print(\"there is \"+ str(numOfStudents)+ \" in my class\")\n",
    "numOfStudents=50097\n",
    "print(numOfStudents)"
   ]
  },
  {
   "cell_type": "markdown",
   "metadata": {},
   "source": [
    "# CHAPTER - 24 CHANGING CASES LOWER AND UPPER AND TITLE"
   ]
  },
  {
   "cell_type": "code",
   "execution_count": null,
   "metadata": {},
   "outputs": [],
   "source": [
    "cleanest_countries=[\"USA\", \"Australia\", \"Spain\", \"Poland\"]\n",
    "country_to_check=input(\"Enter your country:\")\n",
    "country_to_check=country_to_check.lower()#converts user input to lower case\n",
    "for a_clean_country in cleanest_countries:\n",
    "    if country_to_check==a_clean_country:\n",
    "        print(\"Its one of the cleanest country in the World\")\n",
    "\n"
   ]
  },
  {
   "cell_type": "code",
   "execution_count": null,
   "metadata": {},
   "outputs": [],
   "source": [
    "cleanest_countries=[\"USA\", \"Australia\", \"Spain\", \"Poland\"]\n",
    "country_to_check=input(\"Enter your country:\")\n",
    "country_to_check=country_to_check.upper()#converts user input in upper case\n",
    "for a_clean_country in cleanest_countries:\n",
    "    if country_to_check==a_clean_country:\n",
    "        print(\"Its one of the cleanest country in the World\")\n"
   ]
  },
  {
   "cell_type": "code",
   "execution_count": null,
   "metadata": {},
   "outputs": [],
   "source": [
    "cleanest_countries=[\"USA\", \"Australia\", \"Spain\", \"Poland\"]\n",
    "country_to_check=input(\"Enter your country:\")\n",
    "country_to_check=country_to_check.lower()#converts user input in upper case\n",
    "country_to_check=country_to_check.title()#converts first alphabet of any element into capital\n",
    "for a_clean_country in cleanest_countries:\n",
    "    if country_to_check==a_clean_country:\n",
    "        print(\"Its one of the cleanest country in the World\")\n"
   ]
  },
  {
   "cell_type": "markdown",
   "metadata": {},
   "source": [
    "# PROGRAM TO KNOW ESCAPE CHARACTERS"
   ]
  },
  {
   "cell_type": "code",
   "execution_count": null,
   "metadata": {},
   "outputs": [],
   "source": [
    "x=input(\"Enter 1st line/word\"'\\n')\n",
    "y=input(\"Enter 2nd line/word\"'\\n')\n",
    "print(\"Escape Character No-1 [\\] Prints Backslash b/w to lines/word.\")\n",
    "print(x,y,sep=\"\\\\\")\n",
    "print(\"Escape Character No-2 [\\`] Prints single-quote b/w to lines/word.\")\n",
    "print(x,y,sep=\"\\'\")\n",
    "print('Escape Character No-3 [\\\\\"] Prints double-quote b/w to lines/word.')\n",
    "print(x,y,sep=\"\\\"\")\n",
    "print(\"Escape Character No-4 [\\\\a] Prints \\a b/w to lines/word.\")\n",
    "print(x,y,sep=\"\\a\")\n",
    "print(\"Escape Character No-5 [\\\\b] Backspace ( BS ) removes previous character.\")\n",
    "print(x,y,sep=\"\\b\")\n",
    "print(\"Escape Character No-6 [\\\\f] Forwardfeed ( FF )\")\n",
    "print(x,'\\f',y)\n",
    "print(\"Escape Character No-7[\\\\n] Linefeed ( LF )\")\n",
    "print(x,'\\n',y)\n",
    "print(\"Escape Character No-8[\\\\r] Carriage return (CR). Moves all characters after ( CR ) the beginning of the line while overriding same number of characters moved.\")\n",
    "print(x,y,sep='\\r')\n",
    "print(\"Escape Character No-9[\\\\t] Vertical TAB\")\n",
    "print(x,'\\t',y)\n",
    "print(\"Some other escape characters are:\"'\\n'\"10-\\\\uxxxx Prints 16-bit hex value Unicode character.\"'\\n'\n",
    "\"11-\\\\uxxxxxxxx Prints 32-bit hex value Unicode character.\"'\\n'\"12-\\\\ooo Prints character based on its octal value.\"'\\n'\n",
    "\"13-\\\\xhh Prints character based on its hex value.\")\n",
    "print(\"Areeb Mirza\",end='#')"
   ]
  },
  {
   "cell_type": "markdown",
   "metadata": {},
   "source": [
    "# escape characters"
   ]
  },
  {
   "cell_type": "code",
   "execution_count": null,
   "metadata": {},
   "outputs": [],
   "source": [
    "#escape sequence \\n\n",
    "print(\"Pakistan\\nZindabad\")"
   ]
  },
  {
   "cell_type": "code",
   "execution_count": null,
   "metadata": {},
   "outputs": [],
   "source": [
    "#escape sequence \\t\n",
    "print(\"Pakistan\\tZindabad\")"
   ]
  },
  {
   "cell_type": "code",
   "execution_count": null,
   "metadata": {},
   "outputs": [],
   "source": [
    "#escape sequence \\a\n",
    "print(\"Pakistan\\aZindabad\")"
   ]
  },
  {
   "cell_type": "code",
   "execution_count": null,
   "metadata": {},
   "outputs": [],
   "source": [
    "#print b/w two words \\'\n",
    "print(\"Pakistan\\'Zindabad\")"
   ]
  },
  {
   "cell_type": "code",
   "execution_count": null,
   "metadata": {},
   "outputs": [],
   "source": []
  },
  {
   "cell_type": "markdown",
   "metadata": {},
   "source": [
    "# PRACTICING THE WHILE LOOPS"
   ]
  },
  {
   "cell_type": "code",
   "execution_count": null,
   "metadata": {},
   "outputs": [],
   "source": [
    "num=0\n",
    "table=2\n",
    "while num<10:\n",
    "    num += 1\n",
    "    res=table*num\n",
    "    print(table,\"*\",num,\"=\",res)"
   ]
  },
  {
   "cell_type": "code",
   "execution_count": null,
   "metadata": {},
   "outputs": [],
   "source": [
    "num=0\n",
    "table=int(input(\"Which table do you want pythone to generate for you ?\"))\n",
    "interval=int(input(\"What should be the Table Interval \"))\n",
    "itr=int(input(\"What should be the iteration ?\"))\n",
    "print(\"Following is your Table you should learn it by heart\")\n",
    "while num<itr:\n",
    "    num += interval\n",
    "    res=table*num\n",
    "    print(table,\"*\",num,\"=\",res)"
   ]
  },
  {
   "cell_type": "code",
   "execution_count": null,
   "metadata": {},
   "outputs": [],
   "source": [
    "num=0\n",
    "table=3\n",
    "while num<10:\n",
    "    num+=1\n",
    "    res=table*num\n",
    "    print(table,\"*\",num,\"=\",res)"
   ]
  },
  {
   "cell_type": "markdown",
   "metadata": {},
   "source": [
    "# PRACTICING FOR NESTED LOOP"
   ]
  },
  {
   "cell_type": "code",
   "execution_count": null,
   "metadata": {},
   "outputs": [],
   "source": [
    "first_names=[\"Areeb\", \"Ateeb\", \"Talha\", \"Ayan\", \"Farah\",\"Nawaid\"]\n",
    "last_names=[\"Baig\", \"Mirza\", \"Qureshi\", \"Mughal\",\"Sultan\"]\n",
    "full_names=[]\n",
    "for a_first_name in first_names:\n",
    "    for a_last_name in last_names:\n",
    "        full_names.append(a_first_name+\" \"+a_last_name)\n",
    "        print(full_names)"
   ]
  },
  {
   "cell_type": "code",
   "execution_count": null,
   "metadata": {},
   "outputs": [],
   "source": []
  },
  {
   "cell_type": "code",
   "execution_count": null,
   "metadata": {},
   "outputs": [],
   "source": []
  },
  {
   "cell_type": "code",
   "execution_count": null,
   "metadata": {},
   "outputs": [],
   "source": []
  },
  {
   "cell_type": "code",
   "execution_count": null,
   "metadata": {},
   "outputs": [],
   "source": []
  }
 ],
 "metadata": {
  "kernelspec": {
   "display_name": "Python 3",
   "language": "python",
   "name": "python3"
  },
  "language_info": {
   "codemirror_mode": {
    "name": "ipython",
    "version": 3
   },
   "file_extension": ".py",
   "mimetype": "text/x-python",
   "name": "python",
   "nbconvert_exporter": "python",
   "pygments_lexer": "ipython3",
   "version": "3.7.1"
  }
 },
 "nbformat": 4,
 "nbformat_minor": 2
}
