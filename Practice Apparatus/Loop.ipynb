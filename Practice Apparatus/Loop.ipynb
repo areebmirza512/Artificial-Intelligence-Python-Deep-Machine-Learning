{
 "cells": [
  {
   "cell_type": "code",
   "execution_count": 1,
   "metadata": {},
   "outputs": [
    {
     "ename": "SyntaxError",
     "evalue": "invalid syntax (<ipython-input-1-6a6080b0ef08>, line 12)",
     "output_type": "error",
     "traceback": [
      "\u001b[1;36m  File \u001b[1;32m\"<ipython-input-1-6a6080b0ef08>\"\u001b[1;36m, line \u001b[1;32m12\u001b[0m\n\u001b[1;33m    else:\u001b[0m\n\u001b[1;37m       ^\u001b[0m\n\u001b[1;31mSyntaxError\u001b[0m\u001b[1;31m:\u001b[0m invalid syntax\n"
     ]
    }
   ],
   "source": [
    "characterNumb=65\n",
    "characterNumPrint=64\n",
    "index=0\n",
    "rows=26\n",
    "for i in range(1, rows+1):\n",
    "    #printing spaces before index\n",
    "    for s in range(1, (rows-1)+1):\n",
    "        print(end=\" \")\n",
    "        for j in range (0, (2*1-1)):\n",
    "            if characterNumb>65+25:\n",
    "                characterNumPrint=(65+25)-(index-25)\n",
    "                else:\n",
    "                    characterNumPrint=characterNumPrint + 1 \n",
    "                   \n",
    "            characterValue=chr(characterNumPrint)\n",
    "            print(characterValue ,\"\", end=\" \")\n",
    "            characterNum=characterNum + 1\n",
    "            index=index + 1\n",
    "        \n",
    "        \n",
    "index=0\n",
    "characterNum=65\n",
    "characterNumPrint=64\n",
    "print()"
   ]
  },
  {
   "cell_type": "code",
   "execution_count": null,
   "metadata": {},
   "outputs": [],
   "source": []
  },
  {
   "cell_type": "code",
   "execution_count": null,
   "metadata": {},
   "outputs": [],
   "source": []
  }
 ],
 "metadata": {
  "kernelspec": {
   "display_name": "Python 3",
   "language": "python",
   "name": "python3"
  },
  "language_info": {
   "codemirror_mode": {
    "name": "ipython",
    "version": 3
   },
   "file_extension": ".py",
   "mimetype": "text/x-python",
   "name": "python",
   "nbconvert_exporter": "python",
   "pygments_lexer": "ipython3",
   "version": "3.7.1"
  }
 },
 "nbformat": 4,
 "nbformat_minor": 2
}
