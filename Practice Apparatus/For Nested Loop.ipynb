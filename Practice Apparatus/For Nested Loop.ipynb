{
 "cells": [
  {
   "cell_type": "code",
   "execution_count": 2,
   "metadata": {},
   "outputs": [
    {
     "name": "stdout",
     "output_type": "stream",
     "text": [
      "['Areeb Baig']\n",
      "['Areeb Baig', 'Areeb Mirza']\n",
      "['Areeb Baig', 'Areeb Mirza', 'Areeb Qureshi']\n",
      "['Areeb Baig', 'Areeb Mirza', 'Areeb Qureshi', 'Areeb Mughal']\n",
      "['Areeb Baig', 'Areeb Mirza', 'Areeb Qureshi', 'Areeb Mughal', 'Areeb Sultan']\n",
      "['Areeb Baig', 'Areeb Mirza', 'Areeb Qureshi', 'Areeb Mughal', 'Areeb Sultan', 'Ateeb Baig']\n",
      "['Areeb Baig', 'Areeb Mirza', 'Areeb Qureshi', 'Areeb Mughal', 'Areeb Sultan', 'Ateeb Baig', 'Ateeb Mirza']\n",
      "['Areeb Baig', 'Areeb Mirza', 'Areeb Qureshi', 'Areeb Mughal', 'Areeb Sultan', 'Ateeb Baig', 'Ateeb Mirza', 'Ateeb Qureshi']\n",
      "['Areeb Baig', 'Areeb Mirza', 'Areeb Qureshi', 'Areeb Mughal', 'Areeb Sultan', 'Ateeb Baig', 'Ateeb Mirza', 'Ateeb Qureshi', 'Ateeb Mughal']\n",
      "['Areeb Baig', 'Areeb Mirza', 'Areeb Qureshi', 'Areeb Mughal', 'Areeb Sultan', 'Ateeb Baig', 'Ateeb Mirza', 'Ateeb Qureshi', 'Ateeb Mughal', 'Ateeb Sultan']\n",
      "['Areeb Baig', 'Areeb Mirza', 'Areeb Qureshi', 'Areeb Mughal', 'Areeb Sultan', 'Ateeb Baig', 'Ateeb Mirza', 'Ateeb Qureshi', 'Ateeb Mughal', 'Ateeb Sultan', 'Talha Baig']\n",
      "['Areeb Baig', 'Areeb Mirza', 'Areeb Qureshi', 'Areeb Mughal', 'Areeb Sultan', 'Ateeb Baig', 'Ateeb Mirza', 'Ateeb Qureshi', 'Ateeb Mughal', 'Ateeb Sultan', 'Talha Baig', 'Talha Mirza']\n",
      "['Areeb Baig', 'Areeb Mirza', 'Areeb Qureshi', 'Areeb Mughal', 'Areeb Sultan', 'Ateeb Baig', 'Ateeb Mirza', 'Ateeb Qureshi', 'Ateeb Mughal', 'Ateeb Sultan', 'Talha Baig', 'Talha Mirza', 'Talha Qureshi']\n",
      "['Areeb Baig', 'Areeb Mirza', 'Areeb Qureshi', 'Areeb Mughal', 'Areeb Sultan', 'Ateeb Baig', 'Ateeb Mirza', 'Ateeb Qureshi', 'Ateeb Mughal', 'Ateeb Sultan', 'Talha Baig', 'Talha Mirza', 'Talha Qureshi', 'Talha Mughal']\n",
      "['Areeb Baig', 'Areeb Mirza', 'Areeb Qureshi', 'Areeb Mughal', 'Areeb Sultan', 'Ateeb Baig', 'Ateeb Mirza', 'Ateeb Qureshi', 'Ateeb Mughal', 'Ateeb Sultan', 'Talha Baig', 'Talha Mirza', 'Talha Qureshi', 'Talha Mughal', 'Talha Sultan']\n",
      "['Areeb Baig', 'Areeb Mirza', 'Areeb Qureshi', 'Areeb Mughal', 'Areeb Sultan', 'Ateeb Baig', 'Ateeb Mirza', 'Ateeb Qureshi', 'Ateeb Mughal', 'Ateeb Sultan', 'Talha Baig', 'Talha Mirza', 'Talha Qureshi', 'Talha Mughal', 'Talha Sultan', 'Ayan Baig']\n",
      "['Areeb Baig', 'Areeb Mirza', 'Areeb Qureshi', 'Areeb Mughal', 'Areeb Sultan', 'Ateeb Baig', 'Ateeb Mirza', 'Ateeb Qureshi', 'Ateeb Mughal', 'Ateeb Sultan', 'Talha Baig', 'Talha Mirza', 'Talha Qureshi', 'Talha Mughal', 'Talha Sultan', 'Ayan Baig', 'Ayan Mirza']\n",
      "['Areeb Baig', 'Areeb Mirza', 'Areeb Qureshi', 'Areeb Mughal', 'Areeb Sultan', 'Ateeb Baig', 'Ateeb Mirza', 'Ateeb Qureshi', 'Ateeb Mughal', 'Ateeb Sultan', 'Talha Baig', 'Talha Mirza', 'Talha Qureshi', 'Talha Mughal', 'Talha Sultan', 'Ayan Baig', 'Ayan Mirza', 'Ayan Qureshi']\n",
      "['Areeb Baig', 'Areeb Mirza', 'Areeb Qureshi', 'Areeb Mughal', 'Areeb Sultan', 'Ateeb Baig', 'Ateeb Mirza', 'Ateeb Qureshi', 'Ateeb Mughal', 'Ateeb Sultan', 'Talha Baig', 'Talha Mirza', 'Talha Qureshi', 'Talha Mughal', 'Talha Sultan', 'Ayan Baig', 'Ayan Mirza', 'Ayan Qureshi', 'Ayan Mughal']\n",
      "['Areeb Baig', 'Areeb Mirza', 'Areeb Qureshi', 'Areeb Mughal', 'Areeb Sultan', 'Ateeb Baig', 'Ateeb Mirza', 'Ateeb Qureshi', 'Ateeb Mughal', 'Ateeb Sultan', 'Talha Baig', 'Talha Mirza', 'Talha Qureshi', 'Talha Mughal', 'Talha Sultan', 'Ayan Baig', 'Ayan Mirza', 'Ayan Qureshi', 'Ayan Mughal', 'Ayan Sultan']\n",
      "['Areeb Baig', 'Areeb Mirza', 'Areeb Qureshi', 'Areeb Mughal', 'Areeb Sultan', 'Ateeb Baig', 'Ateeb Mirza', 'Ateeb Qureshi', 'Ateeb Mughal', 'Ateeb Sultan', 'Talha Baig', 'Talha Mirza', 'Talha Qureshi', 'Talha Mughal', 'Talha Sultan', 'Ayan Baig', 'Ayan Mirza', 'Ayan Qureshi', 'Ayan Mughal', 'Ayan Sultan', 'Farah Baig']\n",
      "['Areeb Baig', 'Areeb Mirza', 'Areeb Qureshi', 'Areeb Mughal', 'Areeb Sultan', 'Ateeb Baig', 'Ateeb Mirza', 'Ateeb Qureshi', 'Ateeb Mughal', 'Ateeb Sultan', 'Talha Baig', 'Talha Mirza', 'Talha Qureshi', 'Talha Mughal', 'Talha Sultan', 'Ayan Baig', 'Ayan Mirza', 'Ayan Qureshi', 'Ayan Mughal', 'Ayan Sultan', 'Farah Baig', 'Farah Mirza']\n",
      "['Areeb Baig', 'Areeb Mirza', 'Areeb Qureshi', 'Areeb Mughal', 'Areeb Sultan', 'Ateeb Baig', 'Ateeb Mirza', 'Ateeb Qureshi', 'Ateeb Mughal', 'Ateeb Sultan', 'Talha Baig', 'Talha Mirza', 'Talha Qureshi', 'Talha Mughal', 'Talha Sultan', 'Ayan Baig', 'Ayan Mirza', 'Ayan Qureshi', 'Ayan Mughal', 'Ayan Sultan', 'Farah Baig', 'Farah Mirza', 'Farah Qureshi']\n",
      "['Areeb Baig', 'Areeb Mirza', 'Areeb Qureshi', 'Areeb Mughal', 'Areeb Sultan', 'Ateeb Baig', 'Ateeb Mirza', 'Ateeb Qureshi', 'Ateeb Mughal', 'Ateeb Sultan', 'Talha Baig', 'Talha Mirza', 'Talha Qureshi', 'Talha Mughal', 'Talha Sultan', 'Ayan Baig', 'Ayan Mirza', 'Ayan Qureshi', 'Ayan Mughal', 'Ayan Sultan', 'Farah Baig', 'Farah Mirza', 'Farah Qureshi', 'Farah Mughal']\n",
      "['Areeb Baig', 'Areeb Mirza', 'Areeb Qureshi', 'Areeb Mughal', 'Areeb Sultan', 'Ateeb Baig', 'Ateeb Mirza', 'Ateeb Qureshi', 'Ateeb Mughal', 'Ateeb Sultan', 'Talha Baig', 'Talha Mirza', 'Talha Qureshi', 'Talha Mughal', 'Talha Sultan', 'Ayan Baig', 'Ayan Mirza', 'Ayan Qureshi', 'Ayan Mughal', 'Ayan Sultan', 'Farah Baig', 'Farah Mirza', 'Farah Qureshi', 'Farah Mughal', 'Farah Sultan']\n",
      "['Areeb Baig', 'Areeb Mirza', 'Areeb Qureshi', 'Areeb Mughal', 'Areeb Sultan', 'Ateeb Baig', 'Ateeb Mirza', 'Ateeb Qureshi', 'Ateeb Mughal', 'Ateeb Sultan', 'Talha Baig', 'Talha Mirza', 'Talha Qureshi', 'Talha Mughal', 'Talha Sultan', 'Ayan Baig', 'Ayan Mirza', 'Ayan Qureshi', 'Ayan Mughal', 'Ayan Sultan', 'Farah Baig', 'Farah Mirza', 'Farah Qureshi', 'Farah Mughal', 'Farah Sultan', 'Nawaid Baig']\n",
      "['Areeb Baig', 'Areeb Mirza', 'Areeb Qureshi', 'Areeb Mughal', 'Areeb Sultan', 'Ateeb Baig', 'Ateeb Mirza', 'Ateeb Qureshi', 'Ateeb Mughal', 'Ateeb Sultan', 'Talha Baig', 'Talha Mirza', 'Talha Qureshi', 'Talha Mughal', 'Talha Sultan', 'Ayan Baig', 'Ayan Mirza', 'Ayan Qureshi', 'Ayan Mughal', 'Ayan Sultan', 'Farah Baig', 'Farah Mirza', 'Farah Qureshi', 'Farah Mughal', 'Farah Sultan', 'Nawaid Baig', 'Nawaid Mirza']\n",
      "['Areeb Baig', 'Areeb Mirza', 'Areeb Qureshi', 'Areeb Mughal', 'Areeb Sultan', 'Ateeb Baig', 'Ateeb Mirza', 'Ateeb Qureshi', 'Ateeb Mughal', 'Ateeb Sultan', 'Talha Baig', 'Talha Mirza', 'Talha Qureshi', 'Talha Mughal', 'Talha Sultan', 'Ayan Baig', 'Ayan Mirza', 'Ayan Qureshi', 'Ayan Mughal', 'Ayan Sultan', 'Farah Baig', 'Farah Mirza', 'Farah Qureshi', 'Farah Mughal', 'Farah Sultan', 'Nawaid Baig', 'Nawaid Mirza', 'Nawaid Qureshi']\n",
      "['Areeb Baig', 'Areeb Mirza', 'Areeb Qureshi', 'Areeb Mughal', 'Areeb Sultan', 'Ateeb Baig', 'Ateeb Mirza', 'Ateeb Qureshi', 'Ateeb Mughal', 'Ateeb Sultan', 'Talha Baig', 'Talha Mirza', 'Talha Qureshi', 'Talha Mughal', 'Talha Sultan', 'Ayan Baig', 'Ayan Mirza', 'Ayan Qureshi', 'Ayan Mughal', 'Ayan Sultan', 'Farah Baig', 'Farah Mirza', 'Farah Qureshi', 'Farah Mughal', 'Farah Sultan', 'Nawaid Baig', 'Nawaid Mirza', 'Nawaid Qureshi', 'Nawaid Mughal']\n",
      "['Areeb Baig', 'Areeb Mirza', 'Areeb Qureshi', 'Areeb Mughal', 'Areeb Sultan', 'Ateeb Baig', 'Ateeb Mirza', 'Ateeb Qureshi', 'Ateeb Mughal', 'Ateeb Sultan', 'Talha Baig', 'Talha Mirza', 'Talha Qureshi', 'Talha Mughal', 'Talha Sultan', 'Ayan Baig', 'Ayan Mirza', 'Ayan Qureshi', 'Ayan Mughal', 'Ayan Sultan', 'Farah Baig', 'Farah Mirza', 'Farah Qureshi', 'Farah Mughal', 'Farah Sultan', 'Nawaid Baig', 'Nawaid Mirza', 'Nawaid Qureshi', 'Nawaid Mughal', 'Nawaid Sultan']\n"
     ]
    }
   ],
   "source": [
    "first_names=[\"Areeb\", \"Ateeb\", \"Talha\", \"Ayan\", \"Farah\",\"Nawaid\"]\n",
    "last_names=[\"Baig\", \"Mirza\", \"Qureshi\", \"Mughal\",\"Sultan\"]\n",
    "full_names=[]\n",
    "for a_first_name in first_names:\n",
    "    for a_last_name in last_names:\n",
    "        full_names.append(a_first_name+\" \"+a_last_name)\n",
    "        print(full_names)"
   ]
  },
  {
   "cell_type": "code",
   "execution_count": null,
   "metadata": {},
   "outputs": [],
   "source": []
  }
 ],
 "metadata": {
  "kernelspec": {
   "display_name": "Python 3",
   "language": "python",
   "name": "python3"
  },
  "language_info": {
   "codemirror_mode": {
    "name": "ipython",
    "version": 3
   },
   "file_extension": ".py",
   "mimetype": "text/x-python",
   "name": "python",
   "nbconvert_exporter": "python",
   "pygments_lexer": "ipython3",
   "version": "3.7.1"
  }
 },
 "nbformat": 4,
 "nbformat_minor": 2
}
